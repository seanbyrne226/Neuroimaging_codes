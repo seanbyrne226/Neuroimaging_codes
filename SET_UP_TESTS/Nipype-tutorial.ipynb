{
 "cells": [
  {
   "cell_type": "markdown",
   "metadata": {},
   "source": [
    "NOTES:\n",
    "\n",
    "- Using ! at beggining of line or %%bash at beggining of cell allows for direct implementation of shell commands"
   ]
  },
  {
   "cell_type": "markdown",
   "metadata": {},
   "source": [
    "# Introduction"
   ]
  },
  {
   "cell_type": "markdown",
   "metadata": {},
   "source": [
    "## BIDS & Tutorial Dataset"
   ]
  },
  {
   "cell_type": "code",
   "execution_count": 3,
   "metadata": {
    "scrolled": true
   },
   "outputs": [
    {
     "name": "stdout",
     "output_type": "stream",
     "text": [
      "/home/leila/test-project\r\n"
     ]
    }
   ],
   "source": [
    "!pwd"
   ]
  },
  {
   "cell_type": "code",
   "execution_count": 4,
   "metadata": {},
   "outputs": [
    {
     "name": "stdout",
     "output_type": "stream",
     "text": [
      "mkdir: cannot create directory ‘data’: File exists\n",
      "/home/leila/test-project/data\n"
     ]
    }
   ],
   "source": [
    "!mkdir data\n",
    "%cd data"
   ]
  },
  {
   "cell_type": "code",
   "execution_count": 7,
   "metadata": {},
   "outputs": [
    {
     "name": "stdout",
     "output_type": "stream",
     "text": [
      "/home/leila/test-project/data\n"
     ]
    }
   ],
   "source": [
    "%%bash \n",
    "pwd"
   ]
  },
  {
   "cell_type": "code",
   "execution_count": 4,
   "metadata": {},
   "outputs": [
    {
     "name": "stdout",
     "output_type": "stream",
     "text": [
      "install(ok): /home/leila/test-project/data/ds000114 (dataset)\n",
      "install(ok): /home/leila/test-project/data/ds000114/derivatives/fmriprep (dataset)\n",
      "install(ok): /home/leila/test-project/data/ds000114/derivatives/freesurfer (dataset)\n",
      "action summary:\n",
      "  install (ok: 3)\n"
     ]
    },
    {
     "name": "stderr",
     "output_type": "stream",
     "text": [
      "[INFO] Cloning dataset to <Dataset path=/home/leila/test-project/data/ds000114> \n",
      "[INFO] Attempting to clone from http://datasets.datalad.org/workshops/nih-2017/ds000114 to /home/leila/test-project/data/ds000114 \n",
      "[INFO] Attempting to clone from http://datasets.datalad.org/workshops/nih-2017/ds000114/.git to /home/leila/test-project/data/ds000114 \n",
      "[INFO] Completed clone attempts for <Dataset path=/home/leila/test-project/data/ds000114> \n",
      "[INFO] access to 1 dataset sibling datalad not auto-enabled, enable with:\n",
      "| \t\tdatalad siblings -d \"/home/leila/test-project/data/ds000114\" enable -s datalad \n",
      "[INFO] Installing <Dataset path=/home/leila/test-project/data/ds000114> underneath /home/leila/test-project/data/ds000114 recursively \n",
      "[INFO] Cloning dataset to <Dataset path=/home/leila/test-project/data/ds000114/derivatives/fmriprep> \n",
      "[INFO] Attempting to clone from http://datasets.datalad.org/workshops/nih-2017/ds000114/derivatives/fmriprep/.git to /home/leila/test-project/data/ds000114/derivatives/fmriprep \n",
      "[INFO] Completed clone attempts for <Dataset path=/home/leila/test-project/data/ds000114/derivatives/fmriprep> \n",
      "[INFO] Cloning dataset to <Dataset path=/home/leila/test-project/data/ds000114/derivatives/freesurfer> \n",
      "[INFO] Attempting to clone from http://datasets.datalad.org/workshops/nih-2017/ds000114/derivatives/freesurfer/.git to /home/leila/test-project/data/ds000114/derivatives/freesurfer \n",
      "[INFO] Completed clone attempts for <Dataset path=/home/leila/test-project/data/ds000114/derivatives/freesurfer> \n"
     ]
    }
   ],
   "source": [
    "# Install dataset with subdirectories via datalad\n",
    "\n",
    "%%bash\n",
    "datalad install -r ///workshops/nih-2017/ds000114"
   ]
  },
  {
   "cell_type": "code",
   "execution_count": 10,
   "metadata": {},
   "outputs": [
    {
     "name": "stdout",
     "output_type": "stream",
     "text": [
      "get(ok): derivatives/fmriprep/sub-09/anat/sub-09_t1w_space-mni152nlin2009casym_preproc.nii.gz (file) [from origin...]\n",
      "get(ok): derivatives/fmriprep/sub-05/anat/sub-05_t1w_space-mni152nlin2009casym_preproc.nii.gz (file) [from web...]\n",
      "get(ok): derivatives/fmriprep/sub-10/anat/sub-10_t1w_space-mni152nlin2009casym_preproc.nii.gz (file) [from web...]\n",
      "get(ok): derivatives/fmriprep/sub-04/anat/sub-04_t1w_space-mni152nlin2009casym_preproc.nii.gz (file) [from origin...]\n",
      "get(ok): derivatives/fmriprep/sub-06/anat/sub-06_t1w_preproc.nii.gz (file) [from origin...]\n",
      "get(ok): derivatives/fmriprep/sub-01/anat/sub-01_t1w_preproc.nii.gz (file) [from origin...]\n",
      "get(ok): derivatives/fmriprep/sub-02/anat/sub-02_t1w_space-mni152nlin2009casym_preproc.nii.gz (file) [from web...]\n",
      "get(ok): derivatives/fmriprep/sub-05/anat/sub-05_t1w_preproc.nii.gz (file) [from origin...]\n",
      "get(ok): derivatives/fmriprep/sub-02/anat/sub-02_t1w_preproc.nii.gz (file) [from origin...]\n",
      "get(ok): derivatives/fmriprep/sub-06/anat/sub-06_t1w_space-mni152nlin2009casym_preproc.nii.gz (file) [from web...]\n",
      "get(ok): derivatives/fmriprep/sub-01/anat/sub-01_t1w_space-mni152nlin2009casym_preproc.nii.gz (file) [from origin...]\n",
      "get(ok): derivatives/fmriprep/sub-08/anat/sub-08_t1w_space-mni152nlin2009casym_preproc.nii.gz (file) [from origin...]\n",
      "get(ok): derivatives/fmriprep/sub-03/anat/sub-03_t1w_space-mni152nlin2009casym_preproc.nii.gz (file) [from web...]\n",
      "get(ok): derivatives/fmriprep/sub-08/anat/sub-08_t1w_preproc.nii.gz (file) [from origin...]\n",
      "get(ok): derivatives/fmriprep/sub-07/anat/sub-07_t1w_space-mni152nlin2009casym_preproc.nii.gz (file) [from web...]\n",
      "get(ok): derivatives/fmriprep/sub-04/anat/sub-04_t1w_preproc.nii.gz (file) [from web...]\n",
      "get(ok): derivatives/fmriprep/sub-07/anat/sub-07_t1w_preproc.nii.gz (file) [from web...]\n",
      "get(ok): derivatives/fmriprep/sub-03/anat/sub-03_t1w_preproc.nii.gz (file) [from origin...]\n",
      "get(ok): derivatives/fmriprep/sub-09/anat/sub-09_t1w_preproc.nii.gz (file) [from origin...]\n",
      "get(ok): derivatives/fmriprep/sub-10/anat/sub-10_t1w_preproc.nii.gz (file) [from web...]\n",
      "get(ok): sub-02/ses-test/func/sub-02_ses-test_task-fingerfootlips_bold.nii.gz (file) [from web...]\n",
      "get(ok): sub-10/ses-test/func/sub-10_ses-test_task-fingerfootlips_bold.nii.gz (file) [from web...]\n",
      "get(ok): sub-01/ses-test/anat/sub-01_ses-test_T1w.nii.gz (file) [from origin...]\n",
      "get(ok): sub-05/ses-test/func/sub-05_ses-test_task-fingerfootlips_bold.nii.gz (file) [from origin...]\n",
      "get(ok): sub-08/ses-test/func/sub-08_ses-test_task-fingerfootlips_bold.nii.gz (file) [from origin...]\n",
      "get(ok): sub-09/ses-test/func/sub-09_ses-test_task-fingerfootlips_bold.nii.gz (file) [from origin...]\n",
      "get(ok): sub-01/ses-test/func/sub-01_ses-test_task-fingerfootlips_bold.nii.gz (file) [from origin...]\n",
      "get(ok): sub-06/ses-test/func/sub-06_ses-test_task-fingerfootlips_bold.nii.gz (file) [from web...]\n",
      "get(ok): sub-07/ses-test/func/sub-07_ses-test_task-fingerfootlips_bold.nii.gz (file) [from web...]\n",
      "get(ok): sub-04/ses-test/func/sub-04_ses-test_task-fingerfootlips_bold.nii.gz (file) [from web...]\n",
      "get(ok): sub-03/ses-test/func/sub-03_ses-test_task-fingerfootlips_bold.nii.gz (file) [from web...]\n",
      "get(ok): sub-01/ses-test/anat (directory)\n",
      "action summary:\n",
      "  get (notneeded: 1, ok: 32)\n"
     ]
    }
   ],
   "source": [
    "# Download specific data\n",
    "\n",
    "%%bash\n",
    "cd ds000114\n",
    "datalad get ./derivatives/fmriprep/sub-*/anat/*preproc.nii.gz \\\n",
    "./sub-01/ses-test/anat \\\n",
    "./sub-*/ses-test/func/*fingerfootlips*"
   ]
  },
  {
   "cell_type": "code",
   "execution_count": 8,
   "metadata": {
    "scrolled": true
   },
   "outputs": [
    {
     "name": "stdout",
     "output_type": "stream",
     "text": [
      "ds000114/sub-01/ses-test/anat:\r\n",
      "\u001b[0m\u001b[01;36msub-01_ses-test_T1w.nii.gz\u001b[0m@\r\n",
      "\r\n",
      "ds000114/sub-01/ses-test/dwi:\r\n",
      "\u001b[40;31;01msub-01_ses-test_dwi.nii.gz\u001b[0m@\r\n",
      "\r\n",
      "ds000114/sub-01/ses-test/func:\r\n",
      "\u001b[40;31;01msub-01_ses-test_task-covertverbgeneration_bold.nii.gz\u001b[0m@\r\n",
      "\u001b[01;36msub-01_ses-test_task-fingerfootlips_bold.nii.gz\u001b[0m@\r\n",
      "\u001b[40;31;01msub-01_ses-test_task-linebisection_bold.nii.gz\u001b[0m@\r\n",
      "\u001b[01;36msub-01_ses-test_task-linebisection_events.tsv\u001b[0m@\r\n",
      "\u001b[40;31;01msub-01_ses-test_task-overtverbgeneration_bold.nii.gz\u001b[0m@\r\n",
      "\u001b[40;31;01msub-01_ses-test_task-overtwordrepetition_bold.nii.gz\u001b[0m@\r\n"
     ]
    }
   ],
   "source": [
    "ls ds000114/sub-01/ses-test/*"
   ]
  },
  {
   "cell_type": "code",
   "execution_count": 18,
   "metadata": {},
   "outputs": [
    {
     "name": "stdout",
     "output_type": "stream",
     "text": [
      "/home/leila/test-project/data/ds000114\n"
     ]
    }
   ],
   "source": [
    "cd ds000114\n"
   ]
  },
  {
   "cell_type": "code",
   "execution_count": 21,
   "metadata": {},
   "outputs": [],
   "source": [
    "%%bash\n",
    "datalad get ./sub-01/ses-test/func/sub-01_ses-test_task-linebisection_events.tsv"
   ]
  },
  {
   "cell_type": "code",
   "execution_count": 22,
   "metadata": {},
   "outputs": [
    {
     "name": "stdout",
     "output_type": "stream",
     "text": [
      "onset\tduration\tweight\ttrial_type\r\n",
      "24.3065\t1\t1.0\tIncorrect_Task\r\n",
      "25.9465\t1\t1.0\tCorrect_Task\r\n",
      "27.5865\t1\t1.0\tCorrect_Task\r\n",
      "29.2265\t1\t1.0\tNo_Response_Task\r\n",
      "30.8664\t1\t1.0\tIncorrect_Task\r\n",
      "32.5064\t1\t1.0\tNo_Response_Task\r\n",
      "34.1464\t1\t1.0\tCorrect_Task\r\n",
      "35.7864\t1\t1.0\tIncorrect_Task\r\n",
      "37.4264\t1\t1.0\tCorrect_Task\r\n",
      "39.0664\t1\t1.0\tIncorrect_Task\r\n",
      "56.973\t1\t1.0\tResponse_Control\r\n",
      "58.613\t1\t1.0\tNo_Response_Control\r\n",
      "60.253\t1\t1.0\tResponse_Control\r\n",
      "61.893\t1\t1.0\tNo_Response_Control\r\n",
      "63.533\t1\t1.0\tResponse_Control\r\n",
      "65.173\t1\t1.0\tResponse_Control\r\n",
      "66.8129\t1\t1.0\tResponse_Control\r\n",
      "68.4529\t1\t1.0\tResponse_Control\r\n",
      "70.0929\t1\t1.0\tResponse_Control\r\n",
      "71.7329\t1\t1.0\tNo_Response_Control\r\n",
      "89.6395\t1\t1.0\tCorrect_Task\r\n",
      "91.2795\t1\t1.0\tCorrect_Task\r\n",
      "92.9195\t1\t1.0\tIncorrect_Task\r\n",
      "94.5595\t1\t1.0\tIncorrect_Task\r\n",
      "96.1995\t1\t1.0\tCorrect_Task\r\n",
      "97.8395\t1\t1.0\tNo_Response_Task\r\n",
      "99.4795\t1\t1.0\tIncorrect_Task\r\n",
      "101.1194\t1\t1.0\tCorrect_Task\r\n",
      "102.7594\t1\t1.0\tCorrect_Task\r\n",
      "104.3994\t1\t1.0\tCorrect_Task\r\n",
      "122.306\t1\t1.0\tResponse_Control\r\n",
      "123.946\t1\t1.0\tNo_Response_Control\r\n",
      "125.586\t1\t1.0\tResponse_Control\r\n",
      "127.226\t1\t1.0\tResponse_Control\r\n",
      "128.866\t1\t1.0\tResponse_Control\r\n",
      "130.506\t1\t1.0\tNo_Response_Control\r\n",
      "132.146\t1\t1.0\tResponse_Control\r\n",
      "133.786\t1\t1.0\tResponse_Control\r\n",
      "135.4259\t1\t1.0\tNo_Response_Control\r\n",
      "137.0659\t1\t1.0\tResponse_Control\r\n",
      "154.9725\t1\t1.0\tIncorrect_Task\r\n",
      "156.6125\t1\t1.0\tNo_Response_Task\r\n",
      "158.2525\t1\t1.0\tCorrect_Task\r\n",
      "159.8925\t1\t1.0\tNo_Response_Task\r\n",
      "161.5325\t1\t1.0\tCorrect_Task\r\n",
      "163.1725\t1\t1.0\tCorrect_Task\r\n",
      "164.8125\t1\t1.0\tCorrect_Task\r\n",
      "166.4525\t1\t1.0\tCorrect_Task\r\n",
      "168.0925\t1\t1.0\tNo_Response_Task\r\n",
      "169.7324\t1\t1.0\tCorrect_Task\r\n",
      "187.639\t1\t1.0\tResponse_Control\r\n",
      "189.279\t1\t1.0\tResponse_Control\r\n",
      "190.919\t1\t1.0\tResponse_Control\r\n",
      "192.559\t1\t1.0\tNo_Response_Control\r\n",
      "194.199\t1\t1.0\tResponse_Control\r\n",
      "195.839\t1\t1.0\tResponse_Control\r\n",
      "197.479\t1\t1.0\tNo_Response_Control\r\n",
      "199.119\t1\t1.0\tResponse_Control\r\n",
      "200.759\t1\t1.0\tResponse_Control\r\n",
      "202.399\t1\t1.0\tNo_Response_Control\r\n",
      "220.3055\t1\t1.0\tCorrect_Task\r\n",
      "221.9455\t1\t1.0\tCorrect_Task\r\n",
      "223.5855\t1\t1.0\tCorrect_Task\r\n",
      "225.2255\t1\t1.0\tNo_Response_Task\r\n",
      "226.8655\t1\t1.0\tCorrect_Task\r\n",
      "228.5055\t1\t1.0\tIncorrect_Task\r\n",
      "230.1455\t1\t1.0\tCorrect_Task\r\n",
      "231.7855\t1\t1.0\tCorrect_Task\r\n",
      "233.4255\t1\t1.0\tCorrect_Task\r\n",
      "235.0655\t1\t1.0\tCorrect_Task\r\n",
      "252.9721\t1\t1.0\tResponse_Control\r\n",
      "254.612\t1\t1.0\tResponse_Control\r\n",
      "256.252\t1\t1.0\tResponse_Control\r\n",
      "257.892\t1\t1.0\tResponse_Control\r\n",
      "259.532\t1\t1.0\tNo_Response_Control\r\n",
      "261.172\t1\t1.0\tResponse_Control\r\n",
      "262.812\t1\t1.0\tResponse_Control\r\n",
      "264.452\t1\t1.0\tNo_Response_Control\r\n",
      "266.092\t1\t1.0\tResponse_Control\r\n",
      "267.732\t1\t1.0\tNo_Response_Control\r\n",
      "285.6386\t1\t1.0\tIncorrect_Task\r\n",
      "287.2786\t1\t1.0\tCorrect_Task\r\n",
      "288.9185\t1\t1.0\tCorrect_Task\r\n",
      "290.5585\t1\t1.0\tNo_Response_Task\r\n",
      "292.1985\t1\t1.0\tIncorrect_Task\r\n",
      "293.8385\t1\t1.0\tCorrect_Task\r\n",
      "295.4785\t1\t1.0\tCorrect_Task\r\n",
      "297.1185\t1\t1.0\tCorrect_Task\r\n",
      "298.7585\t1\t1.0\tCorrect_Task\r\n",
      "300.3985\t1\t1.0\tCorrect_Task\r\n",
      "318.3051\t1\t1.0\tResponse_Control\r\n",
      "319.9451\t1\t1.0\tResponse_Control\r\n",
      "321.5851\t1\t1.0\tResponse_Control\r\n",
      "323.2251\t1\t1.0\tResponse_Control\r\n",
      "324.865\t1\t1.0\tNo_Response_Control\r\n",
      "326.505\t1\t1.0\tResponse_Control\r\n",
      "328.145\t1\t1.0\tResponse_Control\r\n",
      "329.785\t1\t1.0\tNo_Response_Control\r\n",
      "331.425\t1\t1.0\tResponse_Control\r\n",
      "333.065\t1\t1.0\tNo_Response_Control\r\n",
      "350.9716\t1\t1.0\tCorrect_Task\r\n",
      "352.6116\t1\t1.0\tIncorrect_Task\r\n",
      "354.2516\t1\t1.0\tNo_Response_Task\r\n",
      "355.8916\t1\t1.0\tIncorrect_Task\r\n",
      "357.5316\t1\t1.0\tNo_Response_Task\r\n",
      "359.1715\t1\t1.0\tCorrect_Task\r\n",
      "360.8115\t1\t1.0\tNo_Response_Task\r\n",
      "362.4515\t1\t1.0\tCorrect_Task\r\n",
      "364.0915\t1\t1.0\tIncorrect_Task\r\n",
      "365.7315\t1\t1.0\tCorrect_Task\r\n",
      "383.6381\t1\t1.0\tResponse_Control\r\n",
      "385.2781\t1\t1.0\tResponse_Control\r\n",
      "386.9181\t1\t1.0\tResponse_Control\r\n",
      "388.5581\t1\t1.0\tResponse_Control\r\n",
      "390.1981\t1\t1.0\tNo_Response_Control\r\n",
      "391.8381\t1\t1.0\tResponse_Control\r\n",
      "393.478\t1\t1.0\tResponse_Control\r\n",
      "395.118\t1\t1.0\tNo_Response_Control\r\n",
      "396.758\t1\t1.0\tResponse_Control\r\n",
      "398.398\t1\t1.0\tResponse_Control\r\n",
      "416.3046\t1\t1.0\tIncorrect_Task\r\n",
      "417.9446\t1\t1.0\tIncorrect_Task\r\n",
      "419.5846\t1\t1.0\tIncorrect_Task\r\n",
      "421.2246\t1\t1.0\tIncorrect_Task\r\n",
      "422.8646\t1\t1.0\tNo_Response_Task\r\n",
      "424.5046\t1\t1.0\tCorrect_Task\r\n",
      "426.1446\t1\t1.0\tNo_Response_Task\r\n",
      "427.7845\t1\t1.0\tIncorrect_Task\r\n",
      "429.4245\t1\t1.0\tCorrect_Task\r\n",
      "431.0645\t1\t1.0\tIncorrect_Task\r\n",
      "448.9711\t1\t1.0\tResponse_Control\r\n",
      "450.6111\t1\t1.0\tNo_Response_Control\r\n",
      "452.2511\t1\t1.0\tResponse_Control\r\n",
      "453.8911\t1\t1.0\tNo_Response_Control\r\n",
      "455.5311\t1\t1.0\tResponse_Control\r\n",
      "457.1711\t1\t1.0\tResponse_Control\r\n",
      "458.8111\t1\t1.0\tResponse_Control\r\n",
      "460.4511\t1\t1.0\tResponse_Control\r\n",
      "462.091\t1\t1.0\tResponse_Control\r\n",
      "463.731\t1\t1.0\tNo_Response_Control\r\n",
      "481.6376\t1\t1.0\tIncorrect_Task\r\n",
      "483.2776\t1\t1.0\tCorrect_Task\r\n",
      "484.9176\t1\t1.0\tCorrect_Task\r\n",
      "486.5576\t1\t1.0\tNo_Response_Task\r\n",
      "488.1976\t1\t1.0\tIncorrect_Task\r\n",
      "489.8376\t1\t1.0\tNo_Response_Task\r\n",
      "491.4776\t1\t1.0\tCorrect_Task\r\n",
      "493.1176\t1\t1.0\tIncorrect_Task\r\n",
      "494.7576\t1\t1.0\tCorrect_Task\r\n",
      "496.3976\t1\t1.0\tCorrect_Task\r\n",
      "514.3041\t1\t1.0\tResponse_Control\r\n",
      "515.9441\t1\t1.0\tNo_Response_Control\r\n",
      "517.5841\t1\t1.0\tResponse_Control\r\n",
      "519.2241\t1\t1.0\tResponse_Control\r\n",
      "520.8641\t1\t1.0\tResponse_Control\r\n",
      "522.5041\t1\t1.0\tNo_Response_Control\r\n",
      "524.1441\t1\t1.0\tResponse_Control\r\n",
      "525.7841\t1\t1.0\tNo_Response_Control\r\n",
      "527.4241\t1\t1.0\tResponse_Control\r\n",
      "529.0641\t1\t1.0\tNo_Response_Control\r\n"
     ]
    }
   ],
   "source": [
    "!cat ./sub-01/ses-test/func/sub-01_ses-test_task-linebisection_events.tsv\n"
   ]
  },
  {
   "cell_type": "markdown",
   "metadata": {},
   "source": [
    "## Nipype Showcase"
   ]
  },
  {
   "cell_type": "code",
   "execution_count": 24,
   "metadata": {},
   "outputs": [],
   "source": [
    "from nipype import Node, Workflow\n"
   ]
  },
  {
   "cell_type": "code",
   "execution_count": 25,
   "metadata": {},
   "outputs": [],
   "source": [
    "from nipype.interfaces.fsl import SliceTimer, MCFLIRT, Smooth\n"
   ]
  },
  {
   "cell_type": "code",
   "execution_count": 26,
   "metadata": {},
   "outputs": [],
   "source": [
    "# Initiate a node to correct for slice wise acquisition\n",
    "slicetimer = Node(SliceTimer(index_dir=False,\n",
    "                             interleaved=True,\n",
    "                             time_repetition=2.5),\n",
    "                  name=\"slicetimer\")"
   ]
  },
  {
   "cell_type": "code",
   "execution_count": 27,
   "metadata": {},
   "outputs": [],
   "source": [
    "# Initiate a node to correct for motion\n",
    "mcflirt = Node(MCFLIRT(mean_vol=True,\n",
    "                       save_plots=True),\n",
    "               name=\"mcflirt\")"
   ]
  },
  {
   "cell_type": "code",
   "execution_count": 28,
   "metadata": {},
   "outputs": [],
   "source": [
    "# Initiate a node to smooth functional images\n",
    "smooth = Node(Smooth(fwhm=4), name=\"smooth\")"
   ]
  },
  {
   "cell_type": "code",
   "execution_count": 29,
   "metadata": {},
   "outputs": [
    {
     "data": {
      "text/plain": [
       "'/home/leila/test-project/data/ds000114'"
      ]
     },
     "execution_count": 29,
     "metadata": {},
     "output_type": "execute_result"
    }
   ],
   "source": [
    "pwd"
   ]
  },
  {
   "cell_type": "code",
   "execution_count": 38,
   "metadata": {},
   "outputs": [],
   "source": [
    "!mkdir code"
   ]
  },
  {
   "cell_type": "code",
   "execution_count": 30,
   "metadata": {},
   "outputs": [
    {
     "name": "stdout",
     "output_type": "stream",
     "text": [
      "/home/leila/test-project/data/ds000114/code\n"
     ]
    }
   ],
   "source": [
    "cd code/"
   ]
  },
  {
   "cell_type": "code",
   "execution_count": 74,
   "metadata": {},
   "outputs": [
    {
     "data": {
      "text/plain": [
       "'/home/leila/test-project/data/ds000114/code'"
      ]
     },
     "execution_count": 74,
     "metadata": {},
     "output_type": "execute_result"
    }
   ],
   "source": [
    "pwd"
   ]
  },
  {
   "cell_type": "code",
   "execution_count": 75,
   "metadata": {},
   "outputs": [],
   "source": [
    "# Create preprocessing workflow - test\n",
    "preproc01 = Workflow(name='preproc01', base_dir='.')\n"
   ]
  },
  {
   "cell_type": "code",
   "execution_count": 76,
   "metadata": {},
   "outputs": [],
   "source": [
    "# Populate workflow with nodes - test\n",
    "preproc01.connect([(slicetimer, mcflirt, [('slice_time_corrected_file', 'in_file')]),\n",
    "                   (mcflirt, smooth, [('out_file', 'in_file')])])"
   ]
  },
  {
   "cell_type": "code",
   "execution_count": 77,
   "metadata": {},
   "outputs": [
    {
     "name": "stdout",
     "output_type": "stream",
     "text": [
      "200324-20:10:31,144 nipype.workflow INFO:\n",
      "\t Generated workflow graph: /home/leila/test-project/data/ds000114/code/preproc01/graph.png (graph2use=orig, simple_form=True).\n"
     ]
    },
    {
     "data": {
      "text/plain": [
       "'/home/leila/test-project/data/ds000114/code/preproc01/graph.png'"
      ]
     },
     "execution_count": 77,
     "metadata": {},
     "output_type": "execute_result"
    }
   ],
   "source": [
    "# Create workflow graph - test\n",
    "preproc01.write_graph(graph2use='orig')\n"
   ]
  },
  {
   "cell_type": "code",
   "execution_count": 78,
   "metadata": {},
   "outputs": [
    {
     "data": {
      "image/png": "[encoded data removed]",
      "text/plain": [
       "<IPython.core.display.Image object>"
      ]
     },
     "execution_count": 78,
     "metadata": {},
     "output_type": "execute_result"
    }
   ],
   "source": [
    "# Visualize graph - test\n",
    "from IPython.display import Image\n",
    "Image(filename=\"preproc01/graph_detailed.png\")\n"
   ]
  },
  {
   "cell_type": "code",
   "execution_count": 31,
   "metadata": {},
   "outputs": [],
   "source": [
    "# Create preprocessing workflow\n",
    "preproc02 = Workflow(name='preproc02', base_dir='.')\n"
   ]
  },
  {
   "cell_type": "code",
   "execution_count": 32,
   "metadata": {},
   "outputs": [],
   "source": [
    "# Populate workflow with nodes\n",
    "preproc02.connect([(slicetimer, mcflirt, [('slice_time_corrected_file', 'in_file')]),\n",
    "                   (mcflirt, smooth, [('out_file', 'in_file')])])"
   ]
  },
  {
   "cell_type": "code",
   "execution_count": 33,
   "metadata": {},
   "outputs": [
    {
     "name": "stdout",
     "output_type": "stream",
     "text": [
      "200324-19:40:23,750 nipype.workflow INFO:\n",
      "\t Generated workflow graph: /home/leila/test-project/data/ds000114/code/preproc02/graph.png (graph2use=orig, simple_form=True).\n"
     ]
    },
    {
     "data": {
      "text/plain": [
       "'/home/leila/test-project/data/ds000114/code/preproc02/graph.png'"
      ]
     },
     "execution_count": 33,
     "metadata": {},
     "output_type": "execute_result"
    }
   ],
   "source": [
    "# Create workflow graph\n",
    "preproc02.write_graph(graph2use='orig')\n"
   ]
  },
  {
   "cell_type": "code",
   "execution_count": 34,
   "metadata": {},
   "outputs": [
    {
     "data": {
      "image/png": "[encoded data removed]",
      "text/plain": [
       "<IPython.core.display.Image object>"
      ]
     },
     "execution_count": 34,
     "metadata": {},
     "output_type": "execute_result"
    }
   ],
   "source": [
    "# Visualize graph\n",
    "from IPython.display import Image\n",
    "Image(filename=\"preproc02/graph_detailed.png\")\n"
   ]
  },
  {
   "cell_type": "markdown",
   "metadata": {},
   "source": [
    "### Run workflow on functional image"
   ]
  },
  {
   "cell_type": "code",
   "execution_count": 45,
   "metadata": {},
   "outputs": [],
   "source": [
    "# Slice-timing"
   ]
  },
  {
   "cell_type": "markdown",
   "metadata": {},
   "source": [
    "As slicetimer is 1st node of preprocessing workflow, this is where we specify the local data path."
   ]
  },
  {
   "cell_type": "code",
   "execution_count": 79,
   "metadata": {},
   "outputs": [
    {
     "data": {
      "text/plain": [
       "'/home/leila/test-project/data/ds000114/code'"
      ]
     },
     "execution_count": 79,
     "metadata": {},
     "output_type": "execute_result"
    }
   ],
   "source": [
    "pwd"
   ]
  },
  {
   "cell_type": "code",
   "execution_count": 90,
   "metadata": {},
   "outputs": [],
   "source": [
    "# Slicetimer - test\n",
    "slicetimer.inputs.in_file = '../sub-01/ses-test/func/sub-01_ses-test_task-fingerfootlips_bold.nii.gz'\n",
    "\n",
    "# DOES NOT WORK - USE ABSOLUTE PATH (see below)"
   ]
  },
  {
   "cell_type": "code",
   "execution_count": 97,
   "metadata": {},
   "outputs": [],
   "source": [
    "# Slicetimer\n",
    "\n",
    "slicetimer.inputs.in_file = '/home/leila/test-project/data/ds000114/sub-01/ses-test/func/sub-01_ses-test_task-fingerfootlips_bold.nii.gz'\n"
   ]
  },
  {
   "cell_type": "code",
   "execution_count": 37,
   "metadata": {},
   "outputs": [
    {
     "name": "stdout",
     "output_type": "stream",
     "text": [
      "200324-19:41:59,445 nipype.workflow INFO:\n",
      "\t Workflow preproc02 settings: ['check', 'execution', 'logging', 'monitoring']\n",
      "200324-19:41:59,450 nipype.workflow INFO:\n",
      "\t Running serially.\n",
      "200324-19:41:59,451 nipype.workflow INFO:\n",
      "\t [Node] Setting-up \"preproc02.slicetimer\" in \"/home/leila/test-project/data/ds000114/code/preproc02/slicetimer\".\n",
      "200324-19:41:59,456 nipype.workflow INFO:\n",
      "\t [Node] Running \"slicetimer\" (\"nipype.interfaces.fsl.preprocess.SliceTimer\"), a CommandLine Interface with command:\n",
      "slicetimer --in=/home/leila/test-project/data/ds000114/sub-01/ses-test/func/sub-01_ses-test_task-fingerfootlips_bold.nii.gz --odd --out=/home/leila/test-project/data/ds000114/code/preproc02/slicetimer/sub-01_ses-test_task-fingerfootlips_bold_st.nii.gz --repeat=2.500000\n",
      "200324-19:42:10,914 nipype.workflow INFO:\n",
      "\t [Node] Finished \"preproc02.slicetimer\".\n",
      "200324-19:42:10,916 nipype.workflow INFO:\n",
      "\t [Node] Setting-up \"preproc02.mcflirt\" in \"/home/leila/test-project/data/ds000114/code/preproc02/mcflirt\".\n",
      "200324-19:42:10,920 nipype.workflow INFO:\n",
      "\t [Node] Running \"mcflirt\" (\"nipype.interfaces.fsl.preprocess.MCFLIRT\"), a CommandLine Interface with command:\n",
      "mcflirt -in /home/leila/test-project/data/ds000114/code/preproc02/slicetimer/sub-01_ses-test_task-fingerfootlips_bold_st.nii.gz -meanvol -out /home/leila/test-project/data/ds000114/code/preproc02/mcflirt/sub-01_ses-test_task-fingerfootlips_bold_st_mcf.nii.gz -plots\n",
      "200324-19:43:24,815 nipype.workflow INFO:\n",
      "\t [Node] Finished \"preproc02.mcflirt\".\n",
      "200324-19:43:24,816 nipype.workflow INFO:\n",
      "\t [Node] Setting-up \"preproc02.smooth\" in \"/home/leila/test-project/data/ds000114/code/preproc02/smooth\".\n",
      "200324-19:43:24,821 nipype.workflow INFO:\n",
      "\t [Node] Running \"smooth\" (\"nipype.interfaces.fsl.utils.Smooth\"), a CommandLine Interface with command:\n",
      "fslmaths /home/leila/test-project/data/ds000114/code/preproc02/mcflirt/sub-01_ses-test_task-fingerfootlips_bold_st_mcf.nii.gz -kernel gauss 1.699 -fmean sub-01_ses-test_task-fingerfootlips_bold_st_mcf_smooth.nii.gz\n",
      "200324-19:43:31,534 nipype.workflow INFO:\n",
      "\t [Node] Finished \"preproc02.smooth\".\n",
      "CPU times: user 291 ms, sys: 77 ms, total: 368 ms\n",
      "Wall time: 1min 32s\n"
     ]
    },
    {
     "data": {
      "text/plain": [
       "<networkx.classes.digraph.DiGraph at 0x7fac236e6f98>"
      ]
     },
     "execution_count": 37,
     "metadata": {},
     "output_type": "execute_result"
    }
   ],
   "source": [
    "%time preproc02.run()\n"
   ]
  },
  {
   "cell_type": "code",
   "execution_count": 40,
   "metadata": {},
   "outputs": [
    {
     "name": "stdout",
     "output_type": "stream",
     "text": [
      "\u001b[01;34mpreproc02\u001b[00m\r\n",
      "├── \u001b[01;35mgraph_detailed.png\u001b[00m\r\n",
      "├── \u001b[01;35mgraph.png\u001b[00m\r\n",
      "├── \u001b[01;34mmcflirt\u001b[00m\r\n",
      "│   ├── command.txt\r\n",
      "│   └── \u001b[01;31msub-01_ses-test_task-fingerfootlips_bold_st_mcf.nii.gz\u001b[00m\r\n",
      "├── \u001b[01;34mslicetimer\u001b[00m\r\n",
      "│   ├── command.txt\r\n",
      "│   └── \u001b[01;31msub-01_ses-test_task-fingerfootlips_bold_st.nii.gz\u001b[00m\r\n",
      "└── \u001b[01;34msmooth\u001b[00m\r\n",
      "    ├── command.txt\r\n",
      "    └── \u001b[01;31msub-01_ses-test_task-fingerfootlips_bold_st_mcf_smooth.nii.gz\u001b[00m\r\n",
      "\r\n",
      "3 directories, 8 files\r\n"
     ]
    }
   ],
   "source": [
    "# Check results\n",
    "!tree preproc02 -I '*js|*json|*pklz|_report|*.dot|*html'"
   ]
  },
  {
   "cell_type": "code",
   "execution_count": 41,
   "metadata": {},
   "outputs": [],
   "source": [
    "# Modify smoothing node - FWHM\n",
    "\n",
    "smooth.inputs.fwhm = 2"
   ]
  },
  {
   "cell_type": "code",
   "execution_count": 42,
   "metadata": {},
   "outputs": [
    {
     "name": "stdout",
     "output_type": "stream",
     "text": [
      "200324-19:47:00,32 nipype.workflow INFO:\n",
      "\t Workflow preproc02 settings: ['check', 'execution', 'logging', 'monitoring']\n",
      "200324-19:47:00,38 nipype.workflow INFO:\n",
      "\t Running serially.\n",
      "200324-19:47:00,39 nipype.workflow INFO:\n",
      "\t [Node] Setting-up \"preproc02.slicetimer\" in \"/home/leila/test-project/data/ds000114/code/preproc02/slicetimer\".\n",
      "200324-19:47:00,41 nipype.workflow INFO:\n",
      "\t [Node] Cached \"preproc02.slicetimer\" - collecting precomputed outputs\n",
      "200324-19:47:00,41 nipype.workflow INFO:\n",
      "\t [Node] \"preproc02.slicetimer\" found cached.\n",
      "200324-19:47:00,42 nipype.workflow INFO:\n",
      "\t [Node] Setting-up \"preproc02.mcflirt\" in \"/home/leila/test-project/data/ds000114/code/preproc02/mcflirt\".\n",
      "200324-19:47:00,45 nipype.workflow INFO:\n",
      "\t [Node] Cached \"preproc02.mcflirt\" - collecting precomputed outputs\n",
      "200324-19:47:00,46 nipype.workflow INFO:\n",
      "\t [Node] \"preproc02.mcflirt\" found cached.\n",
      "200324-19:47:00,47 nipype.workflow INFO:\n",
      "\t [Node] Setting-up \"preproc02.smooth\" in \"/home/leila/test-project/data/ds000114/code/preproc02/smooth\".\n",
      "200324-19:47:00,50 nipype.workflow INFO:\n",
      "\t [Node] Outdated cache found for \"preproc02.smooth\".\n",
      "200324-19:47:00,65 nipype.workflow INFO:\n",
      "\t [Node] Running \"smooth\" (\"nipype.interfaces.fsl.utils.Smooth\"), a CommandLine Interface with command:\n",
      "fslmaths /home/leila/test-project/data/ds000114/code/preproc02/mcflirt/sub-01_ses-test_task-fingerfootlips_bold_st_mcf.nii.gz -kernel gauss 0.849 -fmean sub-01_ses-test_task-fingerfootlips_bold_st_mcf_smooth.nii.gz\n",
      "200324-19:47:06,162 nipype.workflow INFO:\n",
      "\t [Node] Finished \"preproc02.smooth\".\n",
      "CPU times: user 64.4 ms, sys: 33.9 ms, total: 98.2 ms\n",
      "Wall time: 6.13 s\n"
     ]
    },
    {
     "data": {
      "text/plain": [
       "<networkx.classes.digraph.DiGraph at 0x7fac238798d0>"
      ]
     },
     "execution_count": 42,
     "metadata": {},
     "output_type": "execute_result"
    }
   ],
   "source": [
    "# Rerunning workflow\n",
    "\n",
    "%time preproc02.run()"
   ]
  },
  {
   "cell_type": "markdown",
   "metadata": {},
   "source": [
    "### Running workflow in parallel"
   ]
  },
  {
   "cell_type": "code",
   "execution_count": 43,
   "metadata": {},
   "outputs": [],
   "source": [
    "# Copy/clone 'prepoc02'\n",
    "\n",
    "preproc03 = preproc02.clone('preproc03')\n",
    "preproc04 = preproc02.clone('preproc04')\n",
    "preproc05 = preproc02.clone('preproc05')\n"
   ]
  },
  {
   "cell_type": "code",
   "execution_count": 45,
   "metadata": {},
   "outputs": [],
   "source": [
    "metaflow = Workflow(name='metaflow', base_dir = '.')"
   ]
  },
  {
   "cell_type": "code",
   "execution_count": 46,
   "metadata": {},
   "outputs": [],
   "source": [
    "# Add parallel preproc workflow clones to metaflow\n",
    "metaflow.add_nodes([preproc02,preproc03,preproc04,preproc05])"
   ]
  },
  {
   "cell_type": "code",
   "execution_count": 47,
   "metadata": {},
   "outputs": [
    {
     "name": "stdout",
     "output_type": "stream",
     "text": [
      "200324-19:51:59,392 nipype.workflow INFO:\n",
      "\t Generated workflow graph: /home/leila/test-project/data/ds000114/code/metaflow/graph.png (graph2use=flat, simple_form=True).\n"
     ]
    },
    {
     "data": {
      "text/plain": [
       "'/home/leila/test-project/data/ds000114/code/metaflow/graph.png'"
      ]
     },
     "execution_count": 47,
     "metadata": {},
     "output_type": "execute_result"
    }
   ],
   "source": [
    "# Create graph\n",
    "metaflow.write_graph(graph2use='flat')"
   ]
  },
  {
   "cell_type": "code",
   "execution_count": 48,
   "metadata": {},
   "outputs": [
    {
     "data": {
      "image/png": "[encoded data removed]",
      "text/plain": [
       "<IPython.core.display.Image object>"
      ]
     },
     "execution_count": 48,
     "metadata": {},
     "output_type": "execute_result"
    }
   ],
   "source": [
    "# Visualize graph\n",
    "from IPython.display import Image\n",
    "Image(filename=\"metaflow/graph_detailed.png\")\n"
   ]
  },
  {
   "cell_type": "code",
   "execution_count": 49,
   "metadata": {},
   "outputs": [
    {
     "name": "stdout",
     "output_type": "stream",
     "text": [
      "200324-19:54:41,547 nipype.workflow INFO:\n",
      "\t Workflow metaflow settings: ['check', 'execution', 'logging', 'monitoring']\n",
      "200324-19:54:41,557 nipype.workflow INFO:\n",
      "\t Running in parallel.\n",
      "200324-19:54:41,561 nipype.workflow INFO:\n",
      "\t [MultiProc] Running 0 tasks, and 4 jobs ready. Free memory (GB): 6.93/6.93, Free processors: 5/5.\n",
      "200324-19:54:41,649 nipype.workflow INFO:\n",
      "\t [Node] Setting-up \"metaflow.preproc02.slicetimer\" in \"/home/leila/test-project/data/ds000114/code/metaflow/preproc02/slicetimer\".200324-19:54:41,650 nipype.workflow INFO:\n",
      "\t [Node] Setting-up \"metaflow.preproc05.slicetimer\" in \"/home/leila/test-project/data/ds000114/code/metaflow/preproc05/slicetimer\".200324-19:54:41,650 nipype.workflow INFO:\n",
      "\t [Node] Setting-up \"metaflow.preproc03.slicetimer\" in \"/home/leila/test-project/data/ds000114/code/metaflow/preproc03/slicetimer\".200324-19:54:41,650 nipype.workflow INFO:\n",
      "\t [Node] Setting-up \"metaflow.preproc04.slicetimer\" in \"/home/leila/test-project/data/ds000114/code/metaflow/preproc04/slicetimer\".\n",
      "\n",
      "\n",
      "200324-19:54:41,661 nipype.workflow INFO:\n",
      "\t [Node] Running \"slicetimer\" (\"nipype.interfaces.fsl.preprocess.SliceTimer\"), a CommandLine Interface with command:\n",
      "slicetimer --in=/home/leila/test-project/data/ds000114/sub-01/ses-test/func/sub-01_ses-test_task-fingerfootlips_bold.nii.gz --odd --out=/home/leila/test-project/data/ds000114/code/metaflow/preproc02/slicetimer/sub-01_ses-test_task-fingerfootlips_bold_st.nii.gz --repeat=2.500000\n",
      "\n",
      "200324-19:54:41,662 nipype.workflow INFO:\n",
      "\t [Node] Running \"slicetimer\" (\"nipype.interfaces.fsl.preprocess.SliceTimer\"), a CommandLine Interface with command:\n",
      "slicetimer --in=/home/leila/test-project/data/ds000114/sub-01/ses-test/func/sub-01_ses-test_task-fingerfootlips_bold.nii.gz --odd --out=/home/leila/test-project/data/ds000114/code/metaflow/preproc05/slicetimer/sub-01_ses-test_task-fingerfootlips_bold_st.nii.gz --repeat=2.500000200324-19:54:41,663 nipype.workflow INFO:\n",
      "\t [Node] Running \"slicetimer\" (\"nipype.interfaces.fsl.preprocess.SliceTimer\"), a CommandLine Interface with command:\n",
      "slicetimer --in=/home/leila/test-project/data/ds000114/sub-01/ses-test/func/sub-01_ses-test_task-fingerfootlips_bold.nii.gz --odd --out=/home/leila/test-project/data/ds000114/code/metaflow/preproc04/slicetimer/sub-01_ses-test_task-fingerfootlips_bold_st.nii.gz --repeat=2.500000\n",
      "\n",
      "200324-19:54:41,672 nipype.workflow INFO:\n",
      "\t [Node] Running \"slicetimer\" (\"nipype.interfaces.fsl.preprocess.SliceTimer\"), a CommandLine Interface with command:\n",
      "slicetimer --in=/home/leila/test-project/data/ds000114/sub-01/ses-test/func/sub-01_ses-test_task-fingerfootlips_bold.nii.gz --odd --out=/home/leila/test-project/data/ds000114/code/metaflow/preproc03/slicetimer/sub-01_ses-test_task-fingerfootlips_bold_st.nii.gz --repeat=2.500000\n",
      "200324-19:54:43,562 nipype.workflow INFO:\n",
      "\t [MultiProc] Running 4 tasks, and 0 jobs ready. Free memory (GB): 6.13/6.93, Free processors: 1/5.\n",
      "                     Currently running:\n",
      "                       * metaflow.preproc05.slicetimer\n",
      "                       * metaflow.preproc04.slicetimer\n",
      "                       * metaflow.preproc03.slicetimer\n",
      "                       * metaflow.preproc02.slicetimer\n",
      "200324-19:54:54,534 nipype.workflow INFO:\n",
      "\t [Node] Finished \"metaflow.preproc04.slicetimer\".\n",
      "200324-19:54:54,546 nipype.workflow INFO:\n",
      "\t [Node] Finished \"metaflow.preproc02.slicetimer\".\n",
      "200324-19:54:54,587 nipype.workflow INFO:\n",
      "\t [Node] Finished \"metaflow.preproc03.slicetimer\".\n",
      "200324-19:54:55,574 nipype.workflow INFO:\n",
      "\t [Job 0] Completed (metaflow.preproc02.slicetimer).\n",
      "200324-19:54:55,581 nipype.workflow INFO:\n",
      "\t [Job 3] Completed (metaflow.preproc03.slicetimer).\n",
      "200324-19:54:55,585 nipype.workflow INFO:\n",
      "\t [Job 6] Completed (metaflow.preproc04.slicetimer).\n",
      "200324-19:54:55,590 nipype.workflow INFO:\n",
      "\t [MultiProc] Running 1 tasks, and 3 jobs ready. Free memory (GB): 6.73/6.93, Free processors: 4/5.\n",
      "                     Currently running:\n",
      "                       * metaflow.preproc05.slicetimer\n",
      "200324-19:54:55,657 nipype.workflow INFO:\n",
      "\t [Node] Setting-up \"metaflow.preproc03.mcflirt\" in \"/home/leila/test-project/data/ds000114/code/metaflow/preproc03/mcflirt\".200324-19:54:55,657 nipype.workflow INFO:\n",
      "\t [Node] Setting-up \"metaflow.preproc04.mcflirt\" in \"/home/leila/test-project/data/ds000114/code/metaflow/preproc04/mcflirt\".\n",
      "200324-19:54:55,658 nipype.workflow INFO:\n",
      "\t [Node] Setting-up \"metaflow.preproc02.mcflirt\" in \"/home/leila/test-project/data/ds000114/code/metaflow/preproc02/mcflirt\".\n",
      "\n",
      "200324-19:54:55,664 nipype.workflow INFO:\n",
      "\t [Node] Running \"mcflirt\" (\"nipype.interfaces.fsl.preprocess.MCFLIRT\"), a CommandLine Interface with command:\n",
      "mcflirt -in /home/leila/test-project/data/ds000114/code/metaflow/preproc04/slicetimer/sub-01_ses-test_task-fingerfootlips_bold_st.nii.gz -meanvol -out /home/leila/test-project/data/ds000114/code/metaflow/preproc04/mcflirt/sub-01_ses-test_task-fingerfootlips_bold_st_mcf.nii.gz -plots200324-19:54:55,665 nipype.workflow INFO:\n",
      "\t [Node] Running \"mcflirt\" (\"nipype.interfaces.fsl.preprocess.MCFLIRT\"), a CommandLine Interface with command:\n",
      "mcflirt -in /home/leila/test-project/data/ds000114/code/metaflow/preproc03/slicetimer/sub-01_ses-test_task-fingerfootlips_bold_st.nii.gz -meanvol -out /home/leila/test-project/data/ds000114/code/metaflow/preproc03/mcflirt/sub-01_ses-test_task-fingerfootlips_bold_st_mcf.nii.gz -plots\n",
      "\n",
      "200324-19:54:55,668 nipype.workflow INFO:\n",
      "\t [Node] Running \"mcflirt\" (\"nipype.interfaces.fsl.preprocess.MCFLIRT\"), a CommandLine Interface with command:\n",
      "mcflirt -in /home/leila/test-project/data/ds000114/code/metaflow/preproc02/slicetimer/sub-01_ses-test_task-fingerfootlips_bold_st.nii.gz -meanvol -out /home/leila/test-project/data/ds000114/code/metaflow/preproc02/mcflirt/sub-01_ses-test_task-fingerfootlips_bold_st_mcf.nii.gz -plots\n",
      "200324-19:54:55,825 nipype.workflow INFO:\n",
      "\t [Node] Finished \"metaflow.preproc05.slicetimer\".\n",
      "200324-19:54:57,575 nipype.workflow INFO:\n",
      "\t [Job 9] Completed (metaflow.preproc05.slicetimer).\n",
      "200324-19:54:57,576 nipype.workflow INFO:\n",
      "\t [MultiProc] Running 3 tasks, and 1 jobs ready. Free memory (GB): 6.33/6.93, Free processors: 2/5.\n",
      "                     Currently running:\n",
      "                       * metaflow.preproc04.mcflirt\n",
      "                       * metaflow.preproc03.mcflirt\n",
      "                       * metaflow.preproc02.mcflirt\n",
      "200324-19:54:57,642 nipype.workflow INFO:\n",
      "\t [Node] Setting-up \"metaflow.preproc05.mcflirt\" in \"/home/leila/test-project/data/ds000114/code/metaflow/preproc05/mcflirt\".\n",
      "200324-19:54:57,648 nipype.workflow INFO:\n",
      "\t [Node] Running \"mcflirt\" (\"nipype.interfaces.fsl.preprocess.MCFLIRT\"), a CommandLine Interface with command:\n",
      "mcflirt -in /home/leila/test-project/data/ds000114/code/metaflow/preproc05/slicetimer/sub-01_ses-test_task-fingerfootlips_bold_st.nii.gz -meanvol -out /home/leila/test-project/data/ds000114/code/metaflow/preproc05/mcflirt/sub-01_ses-test_task-fingerfootlips_bold_st_mcf.nii.gz -plots\n",
      "200324-19:54:59,579 nipype.workflow INFO:\n",
      "\t [MultiProc] Running 4 tasks, and 0 jobs ready. Free memory (GB): 6.13/6.93, Free processors: 1/5.\n",
      "                     Currently running:\n",
      "                       * metaflow.preproc05.mcflirt\n",
      "                       * metaflow.preproc04.mcflirt\n",
      "                       * metaflow.preproc03.mcflirt\n",
      "                       * metaflow.preproc02.mcflirt\n",
      "200324-19:56:44,245 nipype.workflow INFO:\n",
      "\t [Node] Finished \"metaflow.preproc02.mcflirt\".\n",
      "200324-19:56:44,389 nipype.workflow INFO:\n",
      "\t [Node] Finished \"metaflow.preproc03.mcflirt\".\n",
      "200324-19:56:44,401 nipype.workflow INFO:\n",
      "\t [Node] Finished \"metaflow.preproc04.mcflirt\".\n",
      "200324-19:56:45,681 nipype.workflow INFO:\n",
      "\t [Job 1] Completed (metaflow.preproc02.mcflirt).\n",
      "200324-19:56:45,685 nipype.workflow INFO:\n",
      "\t [Job 4] Completed (metaflow.preproc03.mcflirt).\n",
      "200324-19:56:45,688 nipype.workflow INFO:\n",
      "\t [Job 7] Completed (metaflow.preproc04.mcflirt).\n",
      "200324-19:56:45,692 nipype.workflow INFO:\n",
      "\t [MultiProc] Running 1 tasks, and 3 jobs ready. Free memory (GB): 6.73/6.93, Free processors: 4/5.\n",
      "                     Currently running:\n",
      "                       * metaflow.preproc05.mcflirt\n",
      "200324-19:56:45,781 nipype.workflow INFO:\n"
     ]
    },
    {
     "name": "stdout",
     "output_type": "stream",
     "text": [
      "\t [Node] Setting-up \"metaflow.preproc02.smooth\" in \"/home/leila/test-project/data/ds000114/code/metaflow/preproc02/smooth\".200324-19:56:45,781 nipype.workflow INFO:\n",
      "\t [Node] Setting-up \"metaflow.preproc03.smooth\" in \"/home/leila/test-project/data/ds000114/code/metaflow/preproc03/smooth\".\n",
      "\n",
      "200324-19:56:45,783 nipype.workflow INFO:\n",
      "\t [Node] Setting-up \"metaflow.preproc04.smooth\" in \"/home/leila/test-project/data/ds000114/code/metaflow/preproc04/smooth\".200324-19:56:45,791 nipype.workflow INFO:\n",
      "\t [Node] Running \"smooth\" (\"nipype.interfaces.fsl.utils.Smooth\"), a CommandLine Interface with command:\n",
      "fslmaths /home/leila/test-project/data/ds000114/code/metaflow/preproc02/mcflirt/sub-01_ses-test_task-fingerfootlips_bold_st_mcf.nii.gz -kernel gauss 0.849 -fmean sub-01_ses-test_task-fingerfootlips_bold_st_mcf_smooth.nii.gz200324-19:56:45,792 nipype.workflow INFO:\n",
      "\t [Node] Running \"smooth\" (\"nipype.interfaces.fsl.utils.Smooth\"), a CommandLine Interface with command:\n",
      "fslmaths /home/leila/test-project/data/ds000114/code/metaflow/preproc03/mcflirt/sub-01_ses-test_task-fingerfootlips_bold_st_mcf.nii.gz -kernel gauss 0.849 -fmean sub-01_ses-test_task-fingerfootlips_bold_st_mcf_smooth.nii.gz\n",
      "\n",
      "\n",
      "200324-19:56:45,801 nipype.workflow INFO:\n",
      "\t [Node] Running \"smooth\" (\"nipype.interfaces.fsl.utils.Smooth\"), a CommandLine Interface with command:\n",
      "fslmaths /home/leila/test-project/data/ds000114/code/metaflow/preproc04/mcflirt/sub-01_ses-test_task-fingerfootlips_bold_st_mcf.nii.gz -kernel gauss 0.849 -fmean sub-01_ses-test_task-fingerfootlips_bold_st_mcf_smooth.nii.gz\n",
      "200324-19:56:46,462 nipype.workflow INFO:\n",
      "\t [Node] Finished \"metaflow.preproc05.mcflirt\".\n",
      "200324-19:56:47,683 nipype.workflow INFO:\n",
      "\t [Job 10] Completed (metaflow.preproc05.mcflirt).\n",
      "200324-19:56:47,688 nipype.workflow INFO:\n",
      "\t [MultiProc] Running 3 tasks, and 1 jobs ready. Free memory (GB): 6.33/6.93, Free processors: 2/5.\n",
      "                     Currently running:\n",
      "                       * metaflow.preproc04.smooth\n",
      "                       * metaflow.preproc03.smooth\n",
      "                       * metaflow.preproc02.smooth\n",
      "200324-19:56:47,772 nipype.workflow INFO:\n",
      "\t [Node] Setting-up \"metaflow.preproc05.smooth\" in \"/home/leila/test-project/data/ds000114/code/metaflow/preproc05/smooth\".\n",
      "200324-19:56:47,780 nipype.workflow INFO:\n",
      "\t [Node] Running \"smooth\" (\"nipype.interfaces.fsl.utils.Smooth\"), a CommandLine Interface with command:\n",
      "fslmaths /home/leila/test-project/data/ds000114/code/metaflow/preproc05/mcflirt/sub-01_ses-test_task-fingerfootlips_bold_st_mcf.nii.gz -kernel gauss 0.849 -fmean sub-01_ses-test_task-fingerfootlips_bold_st_mcf_smooth.nii.gz\n",
      "200324-19:56:49,685 nipype.workflow INFO:\n",
      "\t [MultiProc] Running 4 tasks, and 0 jobs ready. Free memory (GB): 6.13/6.93, Free processors: 1/5.\n",
      "                     Currently running:\n",
      "                       * metaflow.preproc05.smooth\n",
      "                       * metaflow.preproc04.smooth\n",
      "                       * metaflow.preproc03.smooth\n",
      "                       * metaflow.preproc02.smooth\n",
      "200324-19:56:56,584 nipype.workflow INFO:\n",
      "\t [Node] Finished \"metaflow.preproc03.smooth\".\n",
      "200324-19:56:56,598 nipype.workflow INFO:\n",
      "\t [Node] Finished \"metaflow.preproc04.smooth\".\n",
      "200324-19:56:56,716 nipype.workflow INFO:\n",
      "\t [Node] Finished \"metaflow.preproc02.smooth\".\n",
      "200324-19:56:57,693 nipype.workflow INFO:\n",
      "\t [Job 2] Completed (metaflow.preproc02.smooth).\n",
      "200324-19:56:57,696 nipype.workflow INFO:\n",
      "\t [Job 5] Completed (metaflow.preproc03.smooth).\n",
      "200324-19:56:57,699 nipype.workflow INFO:\n",
      "\t [Job 8] Completed (metaflow.preproc04.smooth).\n",
      "200324-19:56:57,703 nipype.workflow INFO:\n",
      "\t [MultiProc] Running 1 tasks, and 0 jobs ready. Free memory (GB): 6.73/6.93, Free processors: 4/5.\n",
      "                     Currently running:\n",
      "                       * metaflow.preproc05.smooth\n",
      "200324-19:56:58,564 nipype.workflow INFO:\n",
      "\t [Node] Finished \"metaflow.preproc05.smooth\".\n",
      "200324-19:56:59,696 nipype.workflow INFO:\n",
      "\t [Job 11] Completed (metaflow.preproc05.smooth).\n",
      "200324-19:56:59,703 nipype.workflow INFO:\n",
      "\t [MultiProc] Running 0 tasks, and 0 jobs ready. Free memory (GB): 6.93/6.93, Free processors: 5/5.\n",
      "CPU times: user 5.17 s, sys: 78.6 ms, total: 5.25 s\n",
      "Wall time: 2min 20s\n"
     ]
    },
    {
     "data": {
      "text/plain": [
       "<networkx.classes.digraph.DiGraph at 0x7fac223b8f60>"
      ]
     },
     "execution_count": 49,
     "metadata": {},
     "output_type": "execute_result"
    }
   ],
   "source": [
    "# Parallel computation of preproc workflows within metaflow\n",
    "%time metaflow.run('MultiProc', plugin_args={'n_procs': 5})\n"
   ]
  },
  {
   "cell_type": "code",
   "execution_count": 50,
   "metadata": {},
   "outputs": [
    {
     "name": "stdout",
     "output_type": "stream",
     "text": [
      "\u001b[01;34mmetaflow\u001b[00m\r\n",
      "├── \u001b[01;35mgraph_detailed.png\u001b[00m\r\n",
      "├── \u001b[01;35mgraph.png\u001b[00m\r\n",
      "├── \u001b[01;34mpreproc02\u001b[00m\r\n",
      "│   ├── \u001b[01;34mmcflirt\u001b[00m\r\n",
      "│   │   ├── command.txt\r\n",
      "│   │   └── \u001b[01;31msub-01_ses-test_task-fingerfootlips_bold_st_mcf.nii.gz\u001b[00m\r\n",
      "│   ├── \u001b[01;34mslicetimer\u001b[00m\r\n",
      "│   │   ├── command.txt\r\n",
      "│   │   └── \u001b[01;31msub-01_ses-test_task-fingerfootlips_bold_st.nii.gz\u001b[00m\r\n",
      "│   └── \u001b[01;34msmooth\u001b[00m\r\n",
      "│       ├── command.txt\r\n",
      "│       └── \u001b[01;31msub-01_ses-test_task-fingerfootlips_bold_st_mcf_smooth.nii.gz\u001b[00m\r\n",
      "├── \u001b[01;34mpreproc03\u001b[00m\r\n",
      "│   ├── \u001b[01;34mmcflirt\u001b[00m\r\n",
      "│   │   ├── command.txt\r\n",
      "│   │   └── \u001b[01;31msub-01_ses-test_task-fingerfootlips_bold_st_mcf.nii.gz\u001b[00m\r\n",
      "│   ├── \u001b[01;34mslicetimer\u001b[00m\r\n",
      "│   │   ├── command.txt\r\n",
      "│   │   └── \u001b[01;31msub-01_ses-test_task-fingerfootlips_bold_st.nii.gz\u001b[00m\r\n",
      "│   └── \u001b[01;34msmooth\u001b[00m\r\n",
      "│       ├── command.txt\r\n",
      "│       └── \u001b[01;31msub-01_ses-test_task-fingerfootlips_bold_st_mcf_smooth.nii.gz\u001b[00m\r\n",
      "├── \u001b[01;34mpreproc04\u001b[00m\r\n",
      "│   ├── \u001b[01;34mmcflirt\u001b[00m\r\n",
      "│   │   ├── command.txt\r\n",
      "│   │   └── \u001b[01;31msub-01_ses-test_task-fingerfootlips_bold_st_mcf.nii.gz\u001b[00m\r\n",
      "│   ├── \u001b[01;34mslicetimer\u001b[00m\r\n",
      "│   │   ├── command.txt\r\n",
      "│   │   └── \u001b[01;31msub-01_ses-test_task-fingerfootlips_bold_st.nii.gz\u001b[00m\r\n",
      "│   └── \u001b[01;34msmooth\u001b[00m\r\n",
      "│       ├── command.txt\r\n",
      "│       └── \u001b[01;31msub-01_ses-test_task-fingerfootlips_bold_st_mcf_smooth.nii.gz\u001b[00m\r\n",
      "└── \u001b[01;34mpreproc05\u001b[00m\r\n",
      "    ├── \u001b[01;34mmcflirt\u001b[00m\r\n",
      "    │   ├── command.txt\r\n",
      "    │   └── \u001b[01;31msub-01_ses-test_task-fingerfootlips_bold_st_mcf.nii.gz\u001b[00m\r\n",
      "    ├── \u001b[01;34mslicetimer\u001b[00m\r\n",
      "    │   ├── command.txt\r\n",
      "    │   └── \u001b[01;31msub-01_ses-test_task-fingerfootlips_bold_st.nii.gz\u001b[00m\r\n",
      "    └── \u001b[01;34msmooth\u001b[00m\r\n",
      "        ├── command.txt\r\n",
      "        └── \u001b[01;31msub-01_ses-test_task-fingerfootlips_bold_st_mcf_smooth.nii.gz\u001b[00m\r\n",
      "\r\n",
      "16 directories, 26 files\r\n"
     ]
    }
   ],
   "source": [
    "!tree metaflow -I '*js|*json|*pklz|_report|*.dot|*html'\n"
   ]
  },
  {
   "cell_type": "markdown",
   "metadata": {},
   "source": [
    "Beautiful. What have we learned?\n",
    "\n",
    "- Use absolute pathways to define input files\n",
    "- Be very careful and do not mess up the filenames\n",
    "- Check filenames again, for real"
   ]
  },
  {
   "cell_type": "markdown",
   "metadata": {},
   "source": [
    "## Nipype quickstart"
   ]
  },
  {
   "cell_type": "code",
   "execution_count": null,
   "metadata": {},
   "outputs": [],
   "source": []
  }
 ],
 "metadata": {
  "kernelspec": {
   "display_name": "Python 3",
   "language": "python",
   "name": "python3"
  },
  "language_info": {
   "codemirror_mode": {
    "name": "ipython",
    "version": 3
   },
   "file_extension": ".py",
   "mimetype": "text/x-python",
   "name": "python",
   "nbconvert_exporter": "python",
   "pygments_lexer": "ipython3",
   "version": "3.6.9"
  }
 },
 "nbformat": 4,
 "nbformat_minor": 2
}
